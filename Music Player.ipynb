{
  "metadata": {
    "language_info": {
      "codemirror_mode": {
        "name": "python",
        "version": 3
      },
      "file_extension": ".py",
      "mimetype": "text/x-python",
      "name": "python",
      "nbconvert_exporter": "python",
      "pygments_lexer": "ipython3",
      "version": "3.8"
    },
    "kernelspec": {
      "name": "python",
      "display_name": "Python (Pyodide)",
      "language": "python"
    }
  },
  "nbformat_minor": 4,
  "nbformat": 4,
  "cells": [
    {
      "cell_type": "code",
      "source": "<html>        \n<head>  \n    <title>Music Player </title>  \n</head>  \n<body>  \n    <audio controls=\"controls\">  \n<source src=music .mp3 type=audio/mp3>  \n<source src=music .ogg type=audio/ogg>       \n</audio>    \n</body>       \n</html>     \n<button onclick=playMusic()>Play</button>       \n<br/>                                           \n<button onclick=pauseMusic()>Pause</button>               \n<br/>                                           \n<button onclick=stopMusic()>Stop</button>        \n<br/>                                                   \n<head>                                              \n    <title>Music Player </title>                  \n    <script>                                            \n    </script>                                             \n</head>                                               \n<head>                                                              \n    <title>Music Player </title>                                                                \n    <script>                                                 \n        function playMusic() {                          \n        }  \n    </script>                                      \n</head>\n<head>                                             \n    <title>Music Player </title>                       \n    <script>  \n        function playMusic() {                         \n        }  \n        function pauseMusic() {                \n        }  \n        function stopMusic() {                         \n        }  \n    </script>  \n</head> \n<head>  \n    <title>Music Player </title>                                       \n    <script>  \nVar player;  \nwindow.onload =function()                                           \n{  \nplayer = document.getElementById(player);                                \n}  \nfunction playMusic()                                   \n{  \nplayer.play();                                         \n}  \nfunction pauseMusic()                                 \n{  \nPlayer.pause();                                           \n}  \nfunction stopMusic()                                          \n{  \nPlayer.stop();                                                                     \n}  \n    </script>                                                                                \n</head>                                                                                                                                                                                                                 ",
      "metadata": {
        "trusted": true
      },
      "execution_count": 2,
      "outputs": [
        {
          "ename": "<class 'SyntaxError'>",
          "evalue": "invalid syntax (<ipython-input-2-c54117098913>, line 1)",
          "traceback": [
            "\u001b[0;36m  Cell \u001b[0;32mIn[2], line 1\u001b[0;36m\u001b[0m\n\u001b[0;31m    <html>\u001b[0m\n\u001b[0m    ^\u001b[0m\n\u001b[0;31mSyntaxError\u001b[0m\u001b[0;31m:\u001b[0m invalid syntax\n"
          ],
          "output_type": "error"
        }
      ]
    },
    {
      "cell_type": "code",
      "source": "",
      "metadata": {},
      "execution_count": null,
      "outputs": []
    }
  ]
}